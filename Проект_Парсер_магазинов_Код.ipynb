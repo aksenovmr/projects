{
 "cells": [
  {
   "cell_type": "code",
   "execution_count": 1,
   "id": "eb97c932",
   "metadata": {},
   "outputs": [
    {
     "name": "stderr",
     "output_type": "stream",
     "text": [
      "<ipython-input-1-689ae09e43ee>:85: DeprecationWarning: executable_path has been deprecated, please pass in a Service object\n",
      "  br = wb.Chrome(\".\\chromedriver.exe\")\n"
     ]
    },
    {
     "name": "stdout",
     "output_type": "stream",
     "text": [
      "Скидки на какой товар вы хотите найти? пиво\n"
     ]
    },
    {
     "name": "stderr",
     "output_type": "stream",
     "text": [
      "<ipython-input-1-689ae09e43ee>:43: DeprecationWarning: find_element_by_css_selector is deprecated. Please use find_element(by=By.CSS_SELECTOR, value=css_selector) instead\n",
      "  while br.find_element_by_css_selector(\"body > section.list-products > div > a\"):\n",
      "<ipython-input-1-689ae09e43ee>:44: DeprecationWarning: find_element_by_css_selector is deprecated. Please use find_element(by=By.CSS_SELECTOR, value=css_selector) instead\n",
      "  br.find_element_by_css_selector(\"body > section.list-products > div > a\").click()\n"
     ]
    }
   ],
   "source": [
    "import time\n",
    "import pandas as pd\n",
    "from selenium import webdriver as wb\n",
    "from bs4 import BeautifulSoup as bs\n",
    "from datetime import datetime\n",
    "\n",
    "def Soup(url):\n",
    "    br.get(url)\n",
    "    time.sleep(3)\n",
    "    return bs(br.page_source)\n",
    "\n",
    "def PerekrestokParsing(requestWord):\n",
    "    data = []\n",
    "    url = f\"https://www.perekrestok.ru/cat/search?search={requestWord}\"\n",
    "    soup = Soup(url)\n",
    "    try:\n",
    "        lastNum = int([num.text for num in soup.find_all('a', {'aria-current': 'page'})][-2])\n",
    "    except:\n",
    "        lastNum = 1\n",
    "    for page in range(1, lastNum + 1):\n",
    "        url = f\"https://www.perekrestok.ru/cat/search?search={requestWord}&page={page}\"\n",
    "        soup = Soup(url)\n",
    "        productCards = soup.find_all('div', {'class': 'sc-dlfnbm ldVxnE'})\n",
    "        for productCard in productCards:\n",
    "            if not productCard.find('div', {'class': 'price-old'}):\n",
    "                continue\n",
    "            market = \"Перекресток\"\n",
    "            title = productCard.find('div', {'class': 'product-card__title'}).text.strip()\n",
    "            link = \"https://www.perekrestok.ru\" + productCard.find('a', {'class': 'sc-fFubgz fsUTLG product-card__link'}).get('href')\n",
    "            price = productCard.find('div', {'class': 'price-new'}).text.strip()\n",
    "            discount = productCard.find('div', {'class': 'sc-cTkwdZ fPgnFu product-card__badge'}).find('span').text.strip()\n",
    "            left = \"Unknown\"\n",
    "            productElems = [market, title, link, price, discount, left]\n",
    "            data.append(productElems)\n",
    "    return data\n",
    "\n",
    "def DiksiParser(requestWord):\n",
    "    data = []\n",
    "    url = f\"https://dixy.ru/catalog/search.php?q={requestWord}\"\n",
    "    br.get(url)\n",
    "    count = 1\n",
    "    try:\n",
    "        while br.find_element_by_css_selector(\"body > section.list-products > div > a\"):\n",
    "            br.find_element_by_css_selector(\"body > section.list-products > div > a\").click()\n",
    "            count += 1\n",
    "    except:\n",
    "        pass\n",
    "    for page in range(1, count+1):\n",
    "        url = f\"https://dixy.ru/catalog/search.php?q={requestWord}&PAGEN_1={page}\"\n",
    "        soup = Soup(url)\n",
    "        productCards = soup.find_all('div', {'class':'product-container'})\n",
    "        for productCard in productCards:\n",
    "            if not productCard.find('div', {'class': 'dixyCatalogItemPrice__new'}):\n",
    "                continue\n",
    "            title = productCard.find('div', {'class': 'dixyCatalogItem__title'}).text.strip()\n",
    "            market = \"Дикси\"\n",
    "            link = url\n",
    "            price = productCard.find('div', {'class': 'dixyCatalogItemPrice__new'}).text.strip() + \",\" + productCard.find('div', {'class': 'dixyCatalogItemPrice__kopeck'}).text.strip() + \" ₽\"\n",
    "            discount = productCard.find('div', {'class': 'dixyCatalogItemPrice__discount'}).text.strip()\n",
    "            dateEnd = datetime.strptime(productCard.find('div', {'class':'dixyCatalogItem__term'}).text.strip().split('-')[1].strip(), \"%d.%m.%Y\").date()\n",
    "            dateNow = datetime.now().date()\n",
    "            left = str(dateEnd - dateNow).split(',')[0]\n",
    "            productElems = [market, title, link, price, discount, left]\n",
    "            data.append(productElems)\n",
    "    return data\n",
    "\n",
    "def MagnoliaParser(requestWord):\n",
    "    data = []\n",
    "    url = f\"https://shop.mgnl.ru/search/?query={requestWord}&limit=2048\"\n",
    "    soup = Soup(url)\n",
    "    productCards = soup.find_all('div', {'class':'inner_wrap TYPE_1'})\n",
    "    for productCard in productCards:\n",
    "        if not productCard.find('div', {'class': 'price_group min 1618b9f0-7969-11ea-9fc5-40167e7389e1'}):\n",
    "            continue\n",
    "        title = productCard.find('div', {'class': 'item-title'}).text.strip()\n",
    "        market = \"Магнолия\"\n",
    "        link = productCard.find('div', {'class': 'item-title'}).find('a').get('href')\n",
    "        price = productCard.find('div', {'class': 'price_group min 1618b9f0-7969-11ea-9fc5-40167e7389e1'}).find('div',{'class':'price font-bold font_mxs'}).get(\"data-value\").replace(\".\",\",\") + \" ₽\"\n",
    "        discount = productCard.find('div', {'class': 'sale_block'}).text.strip()\n",
    "        left = \"Unknown\"\n",
    "        productElems = [market, title, link, price, discount, left]\n",
    "        data.append(productElems)\n",
    "    return data\n",
    "\n",
    "br = wb.Chrome(\".\\chromedriver.exe\")\n",
    "requestWord = input(\"Скидки на какой товар вы хотите найти? \")\n",
    "allData = []\n",
    "allData += PerekrestokParsing(requestWord)\n",
    "allData += DiksiParser(requestWord)\n",
    "allData += MagnoliaParser(requestWord)\n",
    "data = pd.DataFrame(allData, columns=['Магазин', 'Название', 'Ссылка', 'Цена','Скидка', 'Осталось до конца акции'])\n",
    "name = f\"Скидки на \\'{requestWord}\\' {datetime.now().date()}.xlsx\"\n",
    "data.to_excel(name)"
   ]
  },
  {
   "cell_type": "code",
   "execution_count": null,
   "id": "da528af7",
   "metadata": {},
   "outputs": [],
   "source": []
  },
  {
   "cell_type": "code",
   "execution_count": null,
   "id": "fcd1f6d5",
   "metadata": {},
   "outputs": [],
   "source": []
  },
  {
   "cell_type": "code",
   "execution_count": null,
   "id": "602d0638",
   "metadata": {},
   "outputs": [],
   "source": []
  },
  {
   "cell_type": "code",
   "execution_count": null,
   "id": "04189fb9",
   "metadata": {},
   "outputs": [],
   "source": []
  },
  {
   "cell_type": "code",
   "execution_count": null,
   "id": "7dcc1824",
   "metadata": {},
   "outputs": [],
   "source": []
  },
  {
   "cell_type": "code",
   "execution_count": null,
   "id": "b4d67e28",
   "metadata": {},
   "outputs": [],
   "source": []
  }
 ],
 "metadata": {
  "kernelspec": {
   "display_name": "Python 3",
   "language": "python",
   "name": "python3"
  },
  "language_info": {
   "codemirror_mode": {
    "name": "ipython",
    "version": 3
   },
   "file_extension": ".py",
   "mimetype": "text/x-python",
   "name": "python",
   "nbconvert_exporter": "python",
   "pygments_lexer": "ipython3",
   "version": "3.8.8"
  }
 },
 "nbformat": 4,
 "nbformat_minor": 5
}
